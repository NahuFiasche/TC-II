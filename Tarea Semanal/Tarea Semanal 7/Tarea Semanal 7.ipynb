{
 "cells": [
  {
   "cell_type": "markdown",
   "id": "6e02c2b5",
   "metadata": {},
   "source": [
    "# Teoría de los Circuitos II - R4001  #\n",
    "# Tarea Semanal 7 - Fiasche Nahuel #"
   ]
  },
  {
   "cell_type": "markdown",
   "id": "c2f125c1",
   "metadata": {},
   "source": [
    "# Desarrollo Analítico\n",
    "A continuación se adjunta el desarrollo analítico, en formato PDF."
   ]
  },
  {
   "cell_type": "code",
   "execution_count": 2,
   "id": "3000645b",
   "metadata": {},
   "outputs": [
    {
     "data": {
      "text/html": [
       "\n",
       "        <iframe\n",
       "            width=\"1000\"\n",
       "            height=\"900\"\n",
       "            src=\"./TS7.pdf\"\n",
       "            frameborder=\"0\"\n",
       "            allowfullscreen\n",
       "            \n",
       "        ></iframe>\n",
       "        "
      ],
      "text/plain": [
       "<IPython.lib.display.IFrame at 0x7f238c2f3250>"
      ]
     },
     "execution_count": 2,
     "metadata": {},
     "output_type": "execute_result"
    }
   ],
   "source": [
    "from IPython.display import IFrame\n",
    "IFrame(\"./TS7.pdf\", width=1000, height=900)"
   ]
  },
  {
   "cell_type": "code",
   "execution_count": null,
   "id": "9a0eb31a",
   "metadata": {},
   "outputs": [],
   "source": []
  }
 ],
 "metadata": {
  "kernelspec": {
   "display_name": "Python 3 (ipykernel)",
   "language": "python",
   "name": "python3"
  },
  "language_info": {
   "codemirror_mode": {
    "name": "ipython",
    "version": 3
   },
   "file_extension": ".py",
   "mimetype": "text/x-python",
   "name": "python",
   "nbconvert_exporter": "python",
   "pygments_lexer": "ipython3",
   "version": "3.10.6"
  }
 },
 "nbformat": 4,
 "nbformat_minor": 5
}
